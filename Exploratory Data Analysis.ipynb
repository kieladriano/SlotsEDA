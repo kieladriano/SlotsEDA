{
 "cells": [
  {
   "cell_type": "markdown",
   "metadata": {},
   "source": [
    "# Exploratory Data Analysis on Slot Machine Data"
   ]
  },
  {
   "cell_type": "markdown",
   "metadata": {},
   "source": [
    "## Objective: \n",
    "1. Perform an initial exploratory data analysis on slot machine data using R\n",
    "2. Derive insights using some metrics used in gambling"
   ]
  },
  {
   "cell_type": "markdown",
   "metadata": {},
   "source": [
    "We will be using the following packages in this exercise:\n",
    "1. **dplyr** - convenient data manipulation\n",
    "2. **data.table** - faster data manipulation (in case of technical difficulties using dplyr)\n",
    "3. **lubridate** - used for easier date manipulation\n",
    "4. **ggplot2**- package used to create visuals"
   ]
  },
  {
   "cell_type": "code",
   "execution_count": 1,
   "metadata": {},
   "outputs": [
    {
     "name": "stderr",
     "output_type": "stream",
     "text": [
      "\n",
      "Attaching package: 'dplyr'\n",
      "\n",
      "The following objects are masked from 'package:stats':\n",
      "\n",
      "    filter, lag\n",
      "\n",
      "The following objects are masked from 'package:base':\n",
      "\n",
      "    intersect, setdiff, setequal, union\n",
      "\n",
      "\n",
      "Attaching package: 'data.table'\n",
      "\n",
      "The following objects are masked from 'package:dplyr':\n",
      "\n",
      "    between, first, last\n",
      "\n",
      "\n",
      "Attaching package: 'lubridate'\n",
      "\n",
      "The following objects are masked from 'package:data.table':\n",
      "\n",
      "    hour, isoweek, mday, minute, month, quarter, second, wday, week,\n",
      "    yday, year\n",
      "\n",
      "The following object is masked from 'package:base':\n",
      "\n",
      "    date\n",
      "\n"
     ]
    }
   ],
   "source": [
    "library(dplyr)\n",
    "library(data.table)\n",
    "library(lubridate)\n",
    "library(ggplot2)\n",
    "options(scipen=999)"
   ]
  },
  {
   "cell_type": "markdown",
   "metadata": {},
   "source": [
    "## Dataset\n",
    "The dataset consists of **842,765** rows which represents a single round (spin) done using the slot machine. There are **16** columns which provides further information on the spin i.e. event time, spin outcome (win type), slot machine used, among others\n",
    "\n",
    "A preview of the dataset is seen below:"
   ]
  },
  {
   "cell_type": "code",
   "execution_count": 2,
   "metadata": {},
   "outputs": [
    {
     "data": {
      "text/html": [
       "<table>\n",
       "<thead><tr><th scope=col>event_user</th><th scope=col>install_date</th><th scope=col>event_name</th><th scope=col>event_time</th><th scope=col>slotmachine_id</th><th scope=col>current_level</th><th scope=col>session_id</th><th scope=col>session_token</th><th scope=col>total_bet_amount</th><th scope=col>max_bet_amount</th><th scope=col>amount</th><th scope=col>spin_type</th><th scope=col>win_type</th></tr></thead>\n",
       "<tbody>\n",
       "\t<tr><td>0006eb6299ddd86c1f8f5d5c2c868a56</td><td>2019-02-01 22:44:22.000000      </td><td>pcs.slotmachine.round_played    </td><td>2019-02-01 22:46:34.000000      </td><td>Cleopatra                       </td><td>1                               </td><td>5342ee7a3844e98b54fd074ea9aaabc1</td><td>ed3f346fd36ec57ecd781168a063fddb</td><td> 2500                           </td><td> 5000                           </td><td>  750                           </td><td>manual                          </td><td>fake                            </td></tr>\n",
       "\t<tr><td>0006eb6299ddd86c1f8f5d5c2c868a56</td><td>2019-02-01 22:44:22.000000      </td><td>pcs.slotmachine.round_played    </td><td>2019-02-01 22:46:34.000000      </td><td>Cleopatra                       </td><td>1                               </td><td>5342ee7a3844e98b54fd074ea9aaabc1</td><td>ed3f346fd36ec57ecd781168a063fddb</td><td> 5000                           </td><td> 5000                           </td><td>72000                           </td><td>manual                          </td><td>mega                            </td></tr>\n",
       "\t<tr><td>0006eb6299ddd86c1f8f5d5c2c868a56</td><td>2019-02-01 22:44:22.000000      </td><td>pcs.slotmachine.round_played    </td><td>2019-02-01 22:46:34.000000      </td><td>Cleopatra                       </td><td>1                               </td><td>5342ee7a3844e98b54fd074ea9aaabc1</td><td>ed3f346fd36ec57ecd781168a063fddb</td><td> 5000                           </td><td> 5000                           </td><td>    0                           </td><td>manual                          </td><td>none                            </td></tr>\n",
       "\t<tr><td>0006eb6299ddd86c1f8f5d5c2c868a56</td><td>2019-02-01 22:44:22.000000      </td><td>pcs.slotmachine.round_played    </td><td>2019-02-01 22:46:34.000000      </td><td>Cleopatra                       </td><td>1                               </td><td>5342ee7a3844e98b54fd074ea9aaabc1</td><td>ed3f346fd36ec57ecd781168a063fddb</td><td> 5000                           </td><td> 5000                           </td><td> 1500                           </td><td>manual                          </td><td>fake                            </td></tr>\n",
       "\t<tr><td>0006eb6299ddd86c1f8f5d5c2c868a56</td><td>2019-02-01 22:44:22.000000      </td><td>pcs.slotmachine.round_played    </td><td>2019-02-01 22:47:34.000000      </td><td>Cleopatra                       </td><td>2                               </td><td>5342ee7a3844e98b54fd074ea9aaabc1</td><td>ed3f346fd36ec57ecd781168a063fddb</td><td> 5000                           </td><td>12500                           </td><td>    0                           </td><td>manual                          </td><td>none                            </td></tr>\n",
       "\t<tr><td>0006eb6299ddd86c1f8f5d5c2c868a56</td><td>2019-02-01 22:44:22.000000      </td><td>pcs.slotmachine.round_played    </td><td>2019-02-01 22:47:34.000000      </td><td>Cleopatra                       </td><td>2                               </td><td>5342ee7a3844e98b54fd074ea9aaabc1</td><td>ed3f346fd36ec57ecd781168a063fddb</td><td>12500                           </td><td>12500                           </td><td> 4000                           </td><td>manual                          </td><td>fake                            </td></tr>\n",
       "</tbody>\n",
       "</table>\n"
      ],
      "text/latex": [
       "\\begin{tabular}{r|lllllllllllll}\n",
       " event\\_user & install\\_date & event\\_name & event\\_time & slotmachine\\_id & current\\_level & session\\_id & session\\_token & total\\_bet\\_amount & max\\_bet\\_amount & amount & spin\\_type & win\\_type\\\\\n",
       "\\hline\n",
       "\t 0006eb6299ddd86c1f8f5d5c2c868a56 & 2019-02-01 22:44:22.000000       & pcs.slotmachine.round\\_played   & 2019-02-01 22:46:34.000000       & Cleopatra                        & 1                                & 5342ee7a3844e98b54fd074ea9aaabc1 & ed3f346fd36ec57ecd781168a063fddb &  2500                            &  5000                            &   750                            & manual                           & fake                            \\\\\n",
       "\t 0006eb6299ddd86c1f8f5d5c2c868a56 & 2019-02-01 22:44:22.000000       & pcs.slotmachine.round\\_played   & 2019-02-01 22:46:34.000000       & Cleopatra                        & 1                                & 5342ee7a3844e98b54fd074ea9aaabc1 & ed3f346fd36ec57ecd781168a063fddb &  5000                            &  5000                            & 72000                            & manual                           & mega                            \\\\\n",
       "\t 0006eb6299ddd86c1f8f5d5c2c868a56 & 2019-02-01 22:44:22.000000       & pcs.slotmachine.round\\_played   & 2019-02-01 22:46:34.000000       & Cleopatra                        & 1                                & 5342ee7a3844e98b54fd074ea9aaabc1 & ed3f346fd36ec57ecd781168a063fddb &  5000                            &  5000                            &     0                            & manual                           & none                            \\\\\n",
       "\t 0006eb6299ddd86c1f8f5d5c2c868a56 & 2019-02-01 22:44:22.000000       & pcs.slotmachine.round\\_played   & 2019-02-01 22:46:34.000000       & Cleopatra                        & 1                                & 5342ee7a3844e98b54fd074ea9aaabc1 & ed3f346fd36ec57ecd781168a063fddb &  5000                            &  5000                            &  1500                            & manual                           & fake                            \\\\\n",
       "\t 0006eb6299ddd86c1f8f5d5c2c868a56 & 2019-02-01 22:44:22.000000       & pcs.slotmachine.round\\_played   & 2019-02-01 22:47:34.000000       & Cleopatra                        & 2                                & 5342ee7a3844e98b54fd074ea9aaabc1 & ed3f346fd36ec57ecd781168a063fddb &  5000                            & 12500                            &     0                            & manual                           & none                            \\\\\n",
       "\t 0006eb6299ddd86c1f8f5d5c2c868a56 & 2019-02-01 22:44:22.000000       & pcs.slotmachine.round\\_played   & 2019-02-01 22:47:34.000000       & Cleopatra                        & 2                                & 5342ee7a3844e98b54fd074ea9aaabc1 & ed3f346fd36ec57ecd781168a063fddb & 12500                            & 12500                            &  4000                            & manual                           & fake                            \\\\\n",
       "\\end{tabular}\n"
      ],
      "text/markdown": [
       "\n",
       "| event_user | install_date | event_name | event_time | slotmachine_id | current_level | session_id | session_token | total_bet_amount | max_bet_amount | amount | spin_type | win_type |\n",
       "|---|---|---|---|---|---|---|---|---|---|---|---|---|\n",
       "| 0006eb6299ddd86c1f8f5d5c2c868a56 | 2019-02-01 22:44:22.000000       | pcs.slotmachine.round_played     | 2019-02-01 22:46:34.000000       | Cleopatra                        | 1                                | 5342ee7a3844e98b54fd074ea9aaabc1 | ed3f346fd36ec57ecd781168a063fddb |  2500                            |  5000                            |   750                            | manual                           | fake                             |\n",
       "| 0006eb6299ddd86c1f8f5d5c2c868a56 | 2019-02-01 22:44:22.000000       | pcs.slotmachine.round_played     | 2019-02-01 22:46:34.000000       | Cleopatra                        | 1                                | 5342ee7a3844e98b54fd074ea9aaabc1 | ed3f346fd36ec57ecd781168a063fddb |  5000                            |  5000                            | 72000                            | manual                           | mega                             |\n",
       "| 0006eb6299ddd86c1f8f5d5c2c868a56 | 2019-02-01 22:44:22.000000       | pcs.slotmachine.round_played     | 2019-02-01 22:46:34.000000       | Cleopatra                        | 1                                | 5342ee7a3844e98b54fd074ea9aaabc1 | ed3f346fd36ec57ecd781168a063fddb |  5000                            |  5000                            |     0                            | manual                           | none                             |\n",
       "| 0006eb6299ddd86c1f8f5d5c2c868a56 | 2019-02-01 22:44:22.000000       | pcs.slotmachine.round_played     | 2019-02-01 22:46:34.000000       | Cleopatra                        | 1                                | 5342ee7a3844e98b54fd074ea9aaabc1 | ed3f346fd36ec57ecd781168a063fddb |  5000                            |  5000                            |  1500                            | manual                           | fake                             |\n",
       "| 0006eb6299ddd86c1f8f5d5c2c868a56 | 2019-02-01 22:44:22.000000       | pcs.slotmachine.round_played     | 2019-02-01 22:47:34.000000       | Cleopatra                        | 2                                | 5342ee7a3844e98b54fd074ea9aaabc1 | ed3f346fd36ec57ecd781168a063fddb |  5000                            | 12500                            |     0                            | manual                           | none                             |\n",
       "| 0006eb6299ddd86c1f8f5d5c2c868a56 | 2019-02-01 22:44:22.000000       | pcs.slotmachine.round_played     | 2019-02-01 22:47:34.000000       | Cleopatra                        | 2                                | 5342ee7a3844e98b54fd074ea9aaabc1 | ed3f346fd36ec57ecd781168a063fddb | 12500                            | 12500                            |  4000                            | manual                           | fake                             |\n",
       "\n"
      ],
      "text/plain": [
       "  event_user                       install_date              \n",
       "1 0006eb6299ddd86c1f8f5d5c2c868a56 2019-02-01 22:44:22.000000\n",
       "2 0006eb6299ddd86c1f8f5d5c2c868a56 2019-02-01 22:44:22.000000\n",
       "3 0006eb6299ddd86c1f8f5d5c2c868a56 2019-02-01 22:44:22.000000\n",
       "4 0006eb6299ddd86c1f8f5d5c2c868a56 2019-02-01 22:44:22.000000\n",
       "5 0006eb6299ddd86c1f8f5d5c2c868a56 2019-02-01 22:44:22.000000\n",
       "6 0006eb6299ddd86c1f8f5d5c2c868a56 2019-02-01 22:44:22.000000\n",
       "  event_name                   event_time                 slotmachine_id\n",
       "1 pcs.slotmachine.round_played 2019-02-01 22:46:34.000000 Cleopatra     \n",
       "2 pcs.slotmachine.round_played 2019-02-01 22:46:34.000000 Cleopatra     \n",
       "3 pcs.slotmachine.round_played 2019-02-01 22:46:34.000000 Cleopatra     \n",
       "4 pcs.slotmachine.round_played 2019-02-01 22:46:34.000000 Cleopatra     \n",
       "5 pcs.slotmachine.round_played 2019-02-01 22:47:34.000000 Cleopatra     \n",
       "6 pcs.slotmachine.round_played 2019-02-01 22:47:34.000000 Cleopatra     \n",
       "  current_level session_id                      \n",
       "1 1             5342ee7a3844e98b54fd074ea9aaabc1\n",
       "2 1             5342ee7a3844e98b54fd074ea9aaabc1\n",
       "3 1             5342ee7a3844e98b54fd074ea9aaabc1\n",
       "4 1             5342ee7a3844e98b54fd074ea9aaabc1\n",
       "5 2             5342ee7a3844e98b54fd074ea9aaabc1\n",
       "6 2             5342ee7a3844e98b54fd074ea9aaabc1\n",
       "  session_token                    total_bet_amount max_bet_amount amount\n",
       "1 ed3f346fd36ec57ecd781168a063fddb  2500             5000            750 \n",
       "2 ed3f346fd36ec57ecd781168a063fddb  5000             5000          72000 \n",
       "3 ed3f346fd36ec57ecd781168a063fddb  5000             5000              0 \n",
       "4 ed3f346fd36ec57ecd781168a063fddb  5000             5000           1500 \n",
       "5 ed3f346fd36ec57ecd781168a063fddb  5000            12500              0 \n",
       "6 ed3f346fd36ec57ecd781168a063fddb 12500            12500           4000 \n",
       "  spin_type win_type\n",
       "1 manual    fake    \n",
       "2 manual    mega    \n",
       "3 manual    none    \n",
       "4 manual    fake    \n",
       "5 manual    none    \n",
       "6 manual    fake    "
      ]
     },
     "metadata": {},
     "output_type": "display_data"
    }
   ],
   "source": [
    "#read dataset\n",
    "data <- read.csv('C:/Users/ADRIANO/Desktop/assessment/DataScientistTest/datascientist-test-data.csv',stringsAsFactors=F,na.strings=c(\"\",\" \"))\n",
    "head(data)"
   ]
  },
  {
   "cell_type": "markdown",
   "metadata": {},
   "source": [
    "### Summary\n",
    "There are **1,275** unique users from the span of February 1-5, 2019. Minimum amount that was bet into a single round is 400 while the maximum is 8,000,000,000.The maximum amount won in a single round 5,265,440,000,000.\n",
    "\n",
    "This may be possible outliers.\n",
    "\n",
    "A summary of the data is also provided below:"
   ]
  },
  {
   "cell_type": "code",
   "execution_count": 3,
   "metadata": {},
   "outputs": [
    {
     "name": "stderr",
     "output_type": "stream",
     "text": [
      "Warning message in mean.default(y):\n",
      "\"argument is not numeric or logical: returning NA\"Warning message in mean.default(y):\n",
      "\"argument is not numeric or logical: returning NA\"Warning message in mean.default(y):\n",
      "\"argument is not numeric or logical: returning NA\"Warning message in mean.default(y):\n",
      "\"argument is not numeric or logical: returning NA\"Warning message in mean.default(y):\n",
      "\"argument is not numeric or logical: returning NA\"Warning message in mean.default(y):\n",
      "\"argument is not numeric or logical: returning NA\"Warning message in mean.default(y):\n",
      "\"argument is not numeric or logical: returning NA\"Warning message in mean.default(y):\n",
      "\"argument is not numeric or logical: returning NA\"Warning message in mean.default(y):\n",
      "\"argument is not numeric or logical: returning NA\""
     ]
    },
    {
     "data": {
      "text/html": [
       "<table>\n",
       "<thead><tr><th></th><th scope=col>Variable_Type</th><th scope=col>Unique_Values</th><th scope=col>Min_value</th><th scope=col>Max_value</th><th scope=col>Mean</th></tr></thead>\n",
       "<tbody>\n",
       "\t<tr><th scope=row>event_user</th><td>character                       </td><td>  1275                          </td><td>0006eb6299ddd86c1f8f5d5c2c868a56</td><td>ffd256da322ee33d0d9d34ff7416a4b0</td><td>             NA                 </td></tr>\n",
       "\t<tr><th scope=row>install_date</th><td>character                       </td><td>  1266                          </td><td>2019-02-01 00:01:38.000000      </td><td>2019-02-01 23:58:57.000000      </td><td>             NA                 </td></tr>\n",
       "\t<tr><th scope=row>event_name</th><td>character                       </td><td>     1                          </td><td>pcs.slotmachine.round_played    </td><td>pcs.slotmachine.round_played    </td><td>             NA                 </td></tr>\n",
       "\t<tr><th scope=row>event_time</th><td>character                       </td><td>157422                          </td><td>2019-02-01 00:02:38.000000      </td><td>2019-02-05 23:59:55.000000      </td><td>             NA                 </td></tr>\n",
       "\t<tr><th scope=row>slotmachine_id</th><td>character                       </td><td>    49                          </td><td>AdventuresOfAlice               </td><td>WorldFeast                      </td><td>             NA                 </td></tr>\n",
       "\t<tr><th scope=row>current_level</th><td>integer                         </td><td>   382                          </td><td>1                               </td><td>1562                            </td><td>       74.63636                 </td></tr>\n",
       "\t<tr><th scope=row>session_id</th><td>character                       </td><td>  5377                          </td><td>00094905733470a7173fb786002aa511</td><td>fffabe02663e89ff58b8ac6850b0f40c</td><td>             NA                 </td></tr>\n",
       "\t<tr><th scope=row>session_token</th><td>character                       </td><td>  7837                          </td><td>000fcf52cf59d9c5a4fdd98fa62dc68a</td><td>fffef0929f2691ace3be48421dfaa5a5</td><td>             NA                 </td></tr>\n",
       "\t<tr><th scope=row>total_bet_amount</th><td>numeric                         </td><td>   114                          </td><td>400                             </td><td>8000000000                      </td><td>183517297.03975                 </td></tr>\n",
       "\t<tr><th scope=row>max_bet_amount</th><td>numeric                         </td><td>    88                          </td><td>5000                            </td><td>8000000000                      </td><td>254751261.09888                 </td></tr>\n",
       "\t<tr><th scope=row>amount</th><td>numeric                         </td><td>  7191                          </td><td>0                               </td><td>5265440000000                   </td><td>191643559.40959                 </td></tr>\n",
       "\t<tr><th scope=row>spin_type</th><td>character                       </td><td>     4                          </td><td>auto                            </td><td>re_spin                         </td><td>             NA                 </td></tr>\n",
       "\t<tr><th scope=row>win_type</th><td>character                       </td><td>     7                          </td><td>big                             </td><td>ultra                           </td><td>             NA                 </td></tr>\n",
       "</tbody>\n",
       "</table>\n"
      ],
      "text/latex": [
       "\\begin{tabular}{r|lllll}\n",
       "  & Variable\\_Type & Unique\\_Values & Min\\_value & Max\\_value & Mean\\\\\n",
       "\\hline\n",
       "\tevent\\_user & character                        &   1275                           & 0006eb6299ddd86c1f8f5d5c2c868a56 & ffd256da322ee33d0d9d34ff7416a4b0 &              NA                 \\\\\n",
       "\tinstall\\_date & character                        &   1266                           & 2019-02-01 00:01:38.000000       & 2019-02-01 23:58:57.000000       &              NA                 \\\\\n",
       "\tevent\\_name & character                          &      1                             & pcs.slotmachine.round\\_played     & pcs.slotmachine.round\\_played     &              NA                   \\\\\n",
       "\tevent\\_time & character                        & 157422                           & 2019-02-01 00:02:38.000000       & 2019-02-05 23:59:55.000000       &              NA                 \\\\\n",
       "\tslotmachine\\_id & character                        &     49                           & AdventuresOfAlice                & WorldFeast                       &              NA                 \\\\\n",
       "\tcurrent\\_level & integer                          &    382                           & 1                                & 1562                             &        74.63636                 \\\\\n",
       "\tsession\\_id & character                        &   5377                           & 00094905733470a7173fb786002aa511 & fffabe02663e89ff58b8ac6850b0f40c &              NA                 \\\\\n",
       "\tsession\\_token & character                        &   7837                           & 000fcf52cf59d9c5a4fdd98fa62dc68a & fffef0929f2691ace3be48421dfaa5a5 &              NA                 \\\\\n",
       "\ttotal\\_bet\\_amount & numeric                          &    114                           & 400                              & 8000000000                       & 183517297.03975                 \\\\\n",
       "\tmax\\_bet\\_amount & numeric                          &     88                           & 5000                             & 8000000000                       & 254751261.09888                 \\\\\n",
       "\tamount & numeric                          &   7191                           & 0                                & 5265440000000                    & 191643559.40959                 \\\\\n",
       "\tspin\\_type & character                          &      4                             & auto                               & re\\_spin                          &              NA                   \\\\\n",
       "\twin\\_type & character                        &      7                           & big                              & ultra                            &              NA                 \\\\\n",
       "\\end{tabular}\n"
      ],
      "text/markdown": [
       "\n",
       "| <!--/--> | Variable_Type | Unique_Values | Min_value | Max_value | Mean |\n",
       "|---|---|---|---|---|---|\n",
       "| event_user | character                        |   1275                           | 0006eb6299ddd86c1f8f5d5c2c868a56 | ffd256da322ee33d0d9d34ff7416a4b0 |              NA                  |\n",
       "| install_date | character                        |   1266                           | 2019-02-01 00:01:38.000000       | 2019-02-01 23:58:57.000000       |              NA                  |\n",
       "| event_name | character                        |      1                           | pcs.slotmachine.round_played     | pcs.slotmachine.round_played     |              NA                  |\n",
       "| event_time | character                        | 157422                           | 2019-02-01 00:02:38.000000       | 2019-02-05 23:59:55.000000       |              NA                  |\n",
       "| slotmachine_id | character                        |     49                           | AdventuresOfAlice                | WorldFeast                       |              NA                  |\n",
       "| current_level | integer                          |    382                           | 1                                | 1562                             |        74.63636                  |\n",
       "| session_id | character                        |   5377                           | 00094905733470a7173fb786002aa511 | fffabe02663e89ff58b8ac6850b0f40c |              NA                  |\n",
       "| session_token | character                        |   7837                           | 000fcf52cf59d9c5a4fdd98fa62dc68a | fffef0929f2691ace3be48421dfaa5a5 |              NA                  |\n",
       "| total_bet_amount | numeric                          |    114                           | 400                              | 8000000000                       | 183517297.03975                  |\n",
       "| max_bet_amount | numeric                          |     88                           | 5000                             | 8000000000                       | 254751261.09888                  |\n",
       "| amount | numeric                          |   7191                           | 0                                | 5265440000000                    | 191643559.40959                  |\n",
       "| spin_type | character                        |      4                           | auto                             | re_spin                          |              NA                  |\n",
       "| win_type | character                        |      7                           | big                              | ultra                            |              NA                  |\n",
       "\n"
      ],
      "text/plain": [
       "                 Variable_Type Unique_Values Min_value                       \n",
       "event_user       character       1275        0006eb6299ddd86c1f8f5d5c2c868a56\n",
       "install_date     character       1266        2019-02-01 00:01:38.000000      \n",
       "event_name       character          1        pcs.slotmachine.round_played    \n",
       "event_time       character     157422        2019-02-01 00:02:38.000000      \n",
       "slotmachine_id   character         49        AdventuresOfAlice               \n",
       "current_level    integer          382        1                               \n",
       "session_id       character       5377        00094905733470a7173fb786002aa511\n",
       "session_token    character       7837        000fcf52cf59d9c5a4fdd98fa62dc68a\n",
       "total_bet_amount numeric          114        400                             \n",
       "max_bet_amount   numeric           88        5000                            \n",
       "amount           numeric         7191        0                               \n",
       "spin_type        character          4        auto                            \n",
       "win_type         character          7        big                             \n",
       "                 Max_value                        Mean           \n",
       "event_user       ffd256da322ee33d0d9d34ff7416a4b0              NA\n",
       "install_date     2019-02-01 23:58:57.000000                    NA\n",
       "event_name       pcs.slotmachine.round_played                  NA\n",
       "event_time       2019-02-05 23:59:55.000000                    NA\n",
       "slotmachine_id   WorldFeast                                    NA\n",
       "current_level    1562                                    74.63636\n",
       "session_id       fffabe02663e89ff58b8ac6850b0f40c              NA\n",
       "session_token    fffef0929f2691ace3be48421dfaa5a5              NA\n",
       "total_bet_amount 8000000000                       183517297.03975\n",
       "max_bet_amount   8000000000                       254751261.09888\n",
       "amount           5265440000000                    191643559.40959\n",
       "spin_type        re_spin                                       NA\n",
       "win_type         ultra                                         NA"
      ]
     },
     "metadata": {},
     "output_type": "display_data"
    }
   ],
   "source": [
    "summary <- data.frame(Variable_Type=unlist(sapply(data,function(y) class(y))),\n",
    "                            Unique_Values=sapply(data,function(y) n_distinct(y)),\n",
    "                           Min_value=sapply(data,function(y) (min(y))),\n",
    "                            Max_value=sapply(data,function(y) (max(y))),\n",
    "                            Mean=sapply(data, function(y) (mean(y))))\n",
    "summary"
   ]
  },
  {
   "cell_type": "markdown",
   "metadata": {},
   "source": [
    "We will be converting some of the columns as dates for manipulation"
   ]
  },
  {
   "cell_type": "code",
   "execution_count": 4,
   "metadata": {},
   "outputs": [],
   "source": [
    "##Convert date and time\n",
    "#install date to date\n",
    "data$installdate <- as_date(ymd_hms(data$install_date))\n",
    "data$eventdate <- as_date(ymd_hms(data$event_time))\n",
    "data$eventtime <- as_datetime(data$event_time)"
   ]
  },
  {
   "cell_type": "markdown",
   "metadata": {},
   "source": [
    "### Users\n",
    "All 1,275 users have installed the application on February 1, 2019 (Day 0) and **98%** of these users started playing immediately while the other **2%** waited at least one day before the hitting the first spin.\n"
   ]
  },
  {
   "cell_type": "code",
   "execution_count": 5,
   "metadata": {
    "scrolled": false
   },
   "outputs": [
    {
     "data": {
      "text/plain": [
       "\n",
       "2019-02-01 2019-02-02 2019-02-03 2019-02-04 2019-02-05 \n",
       "      1251         15          5          1          3 "
      ]
     },
     "metadata": {},
     "output_type": "display_data"
    }
   ],
   "source": [
    "#breakdown of users \n",
    "u <- data %>% group_by(event_user,eventdate) %>% arrange(eventdate) %>% group_by(event_user) %>% summarise(mindate=min(eventdate))\n",
    "table(u$mindate)"
   ]
  },
  {
   "cell_type": "markdown",
   "metadata": {},
   "source": [
    "There is a **62% drop** of users that already played the game after installing. Out of the 491 users in Day 1, 15 are first time users of the application. The lowest day-to-day churn rate occured between Days 3 and 4 where only **21%** of the users churned.\n",
    "\n",
    "Looking at the first 3 days after installation, we have **18%** overall user retention rate."
   ]
  },
  {
   "cell_type": "code",
   "execution_count": 6,
   "metadata": {},
   "outputs": [
    {
     "data": {
      "text/html": [
       "<table>\n",
       "<thead><tr><th scope=col>eventdate</th><th scope=col>n</th></tr></thead>\n",
       "<tbody>\n",
       "\t<tr><td>2019-02-01</td><td>1251      </td></tr>\n",
       "\t<tr><td>2019-02-02</td><td> 491      </td></tr>\n",
       "\t<tr><td>2019-02-03</td><td> 280      </td></tr>\n",
       "\t<tr><td>2019-02-04</td><td> 232      </td></tr>\n",
       "\t<tr><td>2019-02-05</td><td> 180      </td></tr>\n",
       "</tbody>\n",
       "</table>\n"
      ],
      "text/latex": [
       "\\begin{tabular}{r|ll}\n",
       " eventdate & n\\\\\n",
       "\\hline\n",
       "\t 2019-02-01 & 1251      \\\\\n",
       "\t 2019-02-02 &  491      \\\\\n",
       "\t 2019-02-03 &  280      \\\\\n",
       "\t 2019-02-04 &  232      \\\\\n",
       "\t 2019-02-05 &  180      \\\\\n",
       "\\end{tabular}\n"
      ],
      "text/markdown": [
       "\n",
       "| eventdate | n |\n",
       "|---|---|\n",
       "| 2019-02-01 | 1251       |\n",
       "| 2019-02-02 |  491       |\n",
       "| 2019-02-03 |  280       |\n",
       "| 2019-02-04 |  232       |\n",
       "| 2019-02-05 |  180       |\n",
       "\n"
      ],
      "text/plain": [
       "  eventdate  n   \n",
       "1 2019-02-01 1251\n",
       "2 2019-02-02  491\n",
       "3 2019-02-03  280\n",
       "4 2019-02-04  232\n",
       "5 2019-02-05  180"
      ]
     },
     "metadata": {},
     "output_type": "display_data"
    }
   ],
   "source": [
    "#Users played each day\n",
    "use <- data %>% group_by(eventdate) %>% summarise(n=n_distinct(event_user))\n",
    "use"
   ]
  },
  {
   "cell_type": "code",
   "execution_count": 7,
   "metadata": {},
   "outputs": [
    {
     "data": {
      "text/html": [
       "18.1960784313725"
      ],
      "text/latex": [
       "18.1960784313725"
      ],
      "text/markdown": [
       "18.1960784313725"
      ],
      "text/plain": [
       "[1] 18.19608"
      ]
     },
     "metadata": {},
     "output_type": "display_data"
    }
   ],
   "source": [
    "#Number of users installed on Day 0\n",
    "installed <- data %>% group_by(installdate) %>% summarise(n=n_distinct(event_user))\n",
    "\n",
    "#Number of users installed 3 days after\n",
    "use <- data %>% group_by(eventdate) %>% summarise(n=n_distinct(event_user)) %>% filter(eventdate=='2019-02-04')\n",
    "\n",
    "#Retention Rate\n",
    "\n",
    "(use$n/installed$n)*100"
   ]
  },
  {
   "cell_type": "markdown",
   "metadata": {},
   "source": [
    "### Slot Machines\n",
    "\n",
    "A user can play with more than one type of slot machine per session. In the 5-day period, **72%** of users used only one slot machine. On the average, a single user plays **2** slot machines in a single session."
   ]
  },
  {
   "cell_type": "code",
   "execution_count": 8,
   "metadata": {},
   "outputs": [
    {
     "data": {
      "text/html": [
       "<table>\n",
       "<thead><tr><th scope=col>n</th></tr></thead>\n",
       "<tbody>\n",
       "\t<tr><td>3853</td></tr>\n",
       "</tbody>\n",
       "</table>\n"
      ],
      "text/latex": [
       "\\begin{tabular}{r|l}\n",
       " n\\\\\n",
       "\\hline\n",
       "\t 3853\\\\\n",
       "\\end{tabular}\n"
      ],
      "text/markdown": [
       "\n",
       "| n |\n",
       "|---|\n",
       "| 3853 |\n",
       "\n"
      ],
      "text/plain": [
       "  n   \n",
       "1 3853"
      ]
     },
     "metadata": {},
     "output_type": "display_data"
    },
    {
     "data": {
      "text/html": [
       "2"
      ],
      "text/latex": [
       "2"
      ],
      "text/markdown": [
       "2"
      ],
      "text/plain": [
       "[1] 2"
      ]
     },
     "metadata": {},
     "output_type": "display_data"
    }
   ],
   "source": [
    "#avg slot machines played by single user in each session\n",
    "n_slots <- data %>% group_by(session_id) %>% summarise(nslots=n_distinct(slotmachine_id))\n",
    "\n",
    "#users used one slot machine only\n",
    "n_slots %>% filter(nslots==1) %>% summarise(n=n())\n",
    "\n",
    "#avg slot machines played by single user in each session \n",
    "round(mean(n_slots$nslots))\n"
   ]
  },
  {
   "cell_type": "markdown",
   "metadata": {},
   "source": [
    "On the average, a single player spins **91** times on a slot machine in a single session. Manual is the most common spin type over the 5-day period. This might be because that doing a Manual spin feels more like a real life slot machine than Auto. A total of 4,425 re-spins and 152,768 free spins in the 5-day period."
   ]
  },
  {
   "cell_type": "code",
   "execution_count": 9,
   "metadata": {},
   "outputs": [
    {
     "data": {
      "text/html": [
       "91"
      ],
      "text/latex": [
       "91"
      ],
      "text/markdown": [
       "91"
      ],
      "text/plain": [
       "[1] 91"
      ]
     },
     "metadata": {},
     "output_type": "display_data"
    }
   ],
   "source": [
    "#avg number of spins played for each machine session\n",
    "n_spins <- data %>% group_by(session_id,session_token,slotmachine_id,eventdate) %>% \n",
    "  summarise(nspins=n())\n",
    "\n",
    "round(mean(n_spins$nspins))"
   ]
  },
  {
   "cell_type": "code",
   "execution_count": 27,
   "metadata": {},
   "outputs": [
    {
     "data": {
      "image/png": "[encoded data removed]",
      "text/plain": [
       "plot without title"
      ]
     },
     "metadata": {},
     "output_type": "display_data"
    }
   ],
   "source": [
    "#Get number of spins per event and spin type\n",
    "spintype <- data %>% group_by(eventdate,spin_type) %>% summarise(nspins=n())\n",
    "\n",
    "#plot\n",
    "ggplot(spintype, aes(fill=spin_type, y=nspins, x=eventdate)) + \n",
    "    geom_bar(position=\"dodge\", stat=\"identity\")+ggtitle(\"Number of Spins by Spin Type\")+\n",
    "theme(plot.title=element_text(hjust=0.5))"
   ]
  },
  {
   "cell_type": "markdown",
   "metadata": {},
   "source": [
    "### Slot Machine Combinations\n",
    "Users can play with more than one slot machine in a single session. Having 5 out of the top 10 slot machine pairs, **Cleopatra** is the most common slot machine that is partnered with other slot machines. **Cleopatra and GoldenDragon** slot machine pairing has been used for **354** sessions, the most in the group. "
   ]
  },
  {
   "cell_type": "code",
   "execution_count": 28,
   "metadata": {},
   "outputs": [
    {
     "name": "stderr",
     "output_type": "stream",
     "text": [
      "Selecting by sessions\n"
     ]
    },
    {
     "data": {
      "image/png": "[encoded data removed]",
      "text/plain": [
       "plot without title"
      ]
     },
     "metadata": {},
     "output_type": "display_data"
    }
   ],
   "source": [
    "# Slot combinations\n",
    "\n",
    "#get the session ids where more than 1 slot machine was used\n",
    "slot <- n_slots %>% filter(nslots>1) %>% ungroup()\n",
    "slots2 <- data %>% filter(session_id %in% slot$session_id) %>%arrange(slotmachine_id) %>%  group_by(session_id,slotmachine_id) %>% summarise() %>% mutate(slotn =row_number())\n",
    "\n",
    "#Create unique key for each slot machine combination\n",
    "slots2 <- left_join(slots2,slots2,by=\"session_id\") %>% filter(slotmachine_id.x!=slotmachine_id.y & (slotn.x<slotn.y)) %>% mutate(SlotsPair=paste(slotmachine_id.x,slotmachine_id.y,sep=\" & \")) %>% \n",
    "  select(session_id,SlotsPair) %>% unique()\n",
    "\n",
    "#Get top combination of slot machines and its frequency\n",
    "top_slots <- slots2 %>% group_by(SlotsPair) %>% summarise(sessions=n()) %>% arrange(desc(sessions)) %>% top_n(10)\n",
    "\n",
    "#plot top combinations of slot machines\n",
    "ggplot(top_slots, aes( y=sessions, x=SlotsPair))+ \n",
    "    geom_bar(position=\"dodge\", stat=\"identity\",fill='green')+coord_flip()+ggtitle(\"Top Slot Machine Combinations\")+\n",
    "theme(plot.title=element_text(hjust=0.5))"
   ]
  },
  {
   "cell_type": "markdown",
   "metadata": {},
   "source": [
    "### Bets\n",
    "On the average, a user changes his bet 3 times in a single session. It is also evident that when players changes their bets, they add to it but not decrease their bets. \n",
    "\n",
    "As expected we could also see that regular wins are most common side from 'none' and 'fake'. This tyoe of win is usually small but enought to keep players playing."
   ]
  },
  {
   "cell_type": "code",
   "execution_count": 11,
   "metadata": {},
   "outputs": [
    {
     "data": {
      "text/html": [
       "3"
      ],
      "text/latex": [
       "3"
      ],
      "text/markdown": [
       "3"
      ],
      "text/plain": [
       "[1] 3"
      ]
     },
     "metadata": {},
     "output_type": "display_data"
    }
   ],
   "source": [
    "#bet size\n",
    "bets <- data %>% group_by(session_id) %>% summarise(distinctbets=n_distinct(total_bet_amount))\n",
    "round(mean(bets$distinctbets))"
   ]
  },
  {
   "cell_type": "code",
   "execution_count": 26,
   "metadata": {},
   "outputs": [
    {
     "data": {
      "text/html": [
       "<table>\n",
       "<thead><tr><th scope=col>session_id</th><th scope=col>total_bet_amount</th><th scope=col>row</th><th scope=col>maxrow</th><th scope=col>diff_amount</th></tr></thead>\n",
       "<tbody>\n",
       "</tbody>\n",
       "</table>\n"
      ],
      "text/latex": [
       "\\begin{tabular}{r|lllll}\n",
       " session\\_id & total\\_bet\\_amount & row & maxrow & diff\\_amount\\\\\n",
       "\\hline\n",
       "\\end{tabular}\n"
      ],
      "text/markdown": [
       "\n",
       "| session_id | total_bet_amount | row | maxrow | diff_amount |\n",
       "|---|---|---|---|---|\n",
       "\n"
      ],
      "text/plain": [
       "     session_id total_bet_amount row maxrow diff_amount"
      ]
     },
     "metadata": {},
     "output_type": "display_data"
    }
   ],
   "source": [
    "#Sort the values of the data to see unique total bets \n",
    "bets_delta <- data %>% group_by(session_id,total_bet_amount) %>% arrange(session_id,eventtime) %>% summarise() %>% ungroup() %>% \n",
    "  group_by(session_id) %>% mutate(row=row_number(),\n",
    "                                  maxrow=ifelse(row==max(row),1,0)) \n",
    "#compare the amounts of bets that has been placed to see in each session\n",
    "bets2 <- left_join(bets_delta,bets_delta,by=\"session_id\") %>% filter(row.x>row.y) %>% mutate(diffrow=row.y-row.x) %>% \n",
    "  mutate(diff_amount=total_bet_amount.x-total_bet_amount.y) %>% filter(diffrow==-1)\n",
    "\n",
    "delta <- left_join(bets_delta,bets2 %>% select(session_id,row=row.x,diff_amount),by=c('session_id','row'))\n",
    "\n",
    "#check if there is at least one session that wherein a smaller bet was done before a big one\n",
    "delta %>% filter(diff_amount<0)\n",
    "\n",
    "#This means that the players adjust their bet upwards"
   ]
  },
  {
   "cell_type": "code",
   "execution_count": 29,
   "metadata": {},
   "outputs": [
    {
     "data": {
      "image/png": "[encoded data removed]",
      "text/plain": [
       "plot without title"
      ]
     },
     "metadata": {},
     "output_type": "display_data"
    }
   ],
   "source": [
    "#Wins\n",
    "Wins <- data %>% group_by(win_type) %>%filter(!win_type %in% c('none','fake') ) %>%  summarise(NumberofWins=n())\n",
    "\n",
    "ggplot(Wins, aes( y=NumberofWins, x=win_type))+ \n",
    "    geom_bar(position=\"dodge\", stat=\"identity\",fill='blue')+ggtitle(\"Number of Wins by Win Type\")+\n",
    "theme(plot.title=element_text(hjust=0.5))\n"
   ]
  },
  {
   "cell_type": "markdown",
   "metadata": {},
   "source": [
    "### Return to Player and Net Pay\n",
    "\n",
    "**Return to Player (RTP)** or **Net Pay** indicates how much of the total amount on a slot machine will be paid back to players. The higher the RTP, the better payouts it could give. An RTP exceeding 100% indicates a loss for the game organizer/ casino.\n",
    "\n",
    "RTP is calulated as:\n",
    "\n",
    "> **Sum(Total Bettings) / Sum(Total Winnings)**\n",
    "\n",
    "\n",
    "There are 11 slots that provides losses to the casinos:\n",
    "  - CasinoClassicSevens\n",
    "  - Easter\n",
    "  - ClockworkChronicles\n",
    "  - DoubleWinClassic\n",
    "  - FarmCubes\n",
    "  - MysticWolf\n",
    "  - TheOutsiders\n",
    "  - PotOfGold\n",
    "  - ImmortalFortunes\n",
    "  - StarshipSquadron\n",
    "  - Cleopatra\n",
    "\n",
    "Majority of slots that have more than 100% RTP are less likely to be played except Cleopatra. **Cleopatra** has been played in most sessions among all slot machines.It is still one of the machines that provides better payouts for players. **LuckyClassic777** provides the lowest RTP among the 42 slot machines in the application."
   ]
  },
  {
   "cell_type": "code",
   "execution_count": 14,
   "metadata": {},
   "outputs": [
    {
     "data": {
      "text/html": [
       "<table>\n",
       "<thead><tr><th scope=col>slotmachine_id</th><th scope=col>avgRTP</th><th scope=col>sessions</th></tr></thead>\n",
       "<tbody>\n",
       "\t<tr><td>CasinoClassicSevens</td><td>368.7500000        </td><td>   1               </td></tr>\n",
       "\t<tr><td>Easter             </td><td> 25.9849407        </td><td>   8               </td></tr>\n",
       "\t<tr><td>ClockworkChronicles</td><td> 25.2280359        </td><td>   3               </td></tr>\n",
       "\t<tr><td>DoubleWinClassic   </td><td>  8.6478081        </td><td>   3               </td></tr>\n",
       "\t<tr><td>FarmCubes          </td><td>  4.7960915        </td><td>  15               </td></tr>\n",
       "\t<tr><td>MysticWolf         </td><td>  2.4199752        </td><td> 149               </td></tr>\n",
       "\t<tr><td>TheOutsiders       </td><td>  2.2964416        </td><td>  26               </td></tr>\n",
       "\t<tr><td>PotOfGold          </td><td>  1.3743022        </td><td>  47               </td></tr>\n",
       "\t<tr><td>ImmortalFortunes   </td><td>  1.2743884        </td><td> 177               </td></tr>\n",
       "\t<tr><td>StarshipSquadron   </td><td>  1.1285749        </td><td>  10               </td></tr>\n",
       "\t<tr><td>Cleopatra          </td><td>  1.1250880        </td><td>2159               </td></tr>\n",
       "\t<tr><td>TitanDefenders     </td><td>  0.9310812        </td><td>   4               </td></tr>\n",
       "\t<tr><td>BigBucksBarbeque   </td><td>  0.9245626        </td><td>   9               </td></tr>\n",
       "\t<tr><td>SciFi              </td><td>  0.8572667        </td><td>  59               </td></tr>\n",
       "\t<tr><td>WorldFeast         </td><td>  0.8495415        </td><td>  15               </td></tr>\n",
       "\t<tr><td>goldennights       </td><td>  0.7804656        </td><td> 692               </td></tr>\n",
       "\t<tr><td>GoldenConquest     </td><td>  0.7558772        </td><td>   1               </td></tr>\n",
       "\t<tr><td>WildWest           </td><td>  0.7480440        </td><td> 374               </td></tr>\n",
       "\t<tr><td>SteamyHotJackpots  </td><td>  0.7422496        </td><td>  26               </td></tr>\n",
       "\t<tr><td>SaveTheEarth       </td><td>  0.7313716        </td><td>  15               </td></tr>\n",
       "\t<tr><td>TemptationIsland   </td><td>  0.7309904        </td><td> 173               </td></tr>\n",
       "\t<tr><td>Diner              </td><td>  0.7212304        </td><td> 230               </td></tr>\n",
       "\t<tr><td>SweetStakes        </td><td>  0.7209157        </td><td>   6               </td></tr>\n",
       "\t<tr><td>DiamondDeluxe      </td><td>  0.7183871        </td><td> 463               </td></tr>\n",
       "\t<tr><td>GoldenDragon       </td><td>  0.7173788        </td><td> 928               </td></tr>\n",
       "\t<tr><td>JuiceCubes         </td><td>  0.7052119        </td><td> 168               </td></tr>\n",
       "\t<tr><td>HackCity           </td><td>  0.7049853        </td><td>   6               </td></tr>\n",
       "\t<tr><td>SantaExtravaganza  </td><td>  0.7001355        </td><td>  34               </td></tr>\n",
       "\t<tr><td>JungleCubes        </td><td>  0.6998940        </td><td>  61               </td></tr>\n",
       "\t<tr><td>BubbleCubes        </td><td>  0.6922103        </td><td>  13               </td></tr>\n",
       "\t<tr><td>PiratePlunder      </td><td>  0.6880148        </td><td>  62               </td></tr>\n",
       "\t<tr><td>GalleonsOfGlory    </td><td>  0.6795224        </td><td>  26               </td></tr>\n",
       "\t<tr><td>BigWinBuffalo      </td><td>  0.6789281        </td><td> 612               </td></tr>\n",
       "\t<tr><td>KingdomOfGold      </td><td>  0.6768994        </td><td> 349               </td></tr>\n",
       "\t<tr><td>DragonCubes        </td><td>  0.6634865        </td><td>  16               </td></tr>\n",
       "\t<tr><td>ReelsOfSpeed       </td><td>  0.6477766        </td><td>  16               </td></tr>\n",
       "\t<tr><td>DiaDeMuertos       </td><td>  0.6245312        </td><td>   9               </td></tr>\n",
       "\t<tr><td>AdventuresOfAlice  </td><td>  0.6105493        </td><td>   3               </td></tr>\n",
       "\t<tr><td>KongsQuest         </td><td>  0.6098384        </td><td>   4               </td></tr>\n",
       "\t<tr><td>ArcaneReels        </td><td>  0.6027441        </td><td>  11               </td></tr>\n",
       "\t<tr><td>CasinoCats         </td><td>  0.6008909        </td><td> 255               </td></tr>\n",
       "\t<tr><td>Freya              </td><td>  0.5977079        </td><td>   7               </td></tr>\n",
       "\t<tr><td>AstroBlitz         </td><td>  0.5961057        </td><td>  66               </td></tr>\n",
       "\t<tr><td>SherwoodBounty     </td><td>  0.5794850        </td><td>   9               </td></tr>\n",
       "\t<tr><td>FairyTale          </td><td>  0.5758448        </td><td> 466               </td></tr>\n",
       "\t<tr><td>VegasRoyale        </td><td>  0.5622333        </td><td>  41               </td></tr>\n",
       "\t<tr><td>RichesOfOsiris     </td><td>  0.4987201        </td><td>   5               </td></tr>\n",
       "\t<tr><td>RichesOfAtlantis   </td><td>  0.4607896        </td><td>   2               </td></tr>\n",
       "\t<tr><td>LuckyClassic777    </td><td>  0.3836917        </td><td>   3               </td></tr>\n",
       "</tbody>\n",
       "</table>\n"
      ],
      "text/latex": [
       "\\begin{tabular}{r|lll}\n",
       " slotmachine\\_id & avgRTP & sessions\\\\\n",
       "\\hline\n",
       "\t CasinoClassicSevens & 368.7500000         &    1               \\\\\n",
       "\t Easter              &  25.9849407         &    8               \\\\\n",
       "\t ClockworkChronicles &  25.2280359         &    3               \\\\\n",
       "\t DoubleWinClassic    &   8.6478081         &    3               \\\\\n",
       "\t FarmCubes           &   4.7960915         &   15               \\\\\n",
       "\t MysticWolf          &   2.4199752         &  149               \\\\\n",
       "\t TheOutsiders        &   2.2964416         &   26               \\\\\n",
       "\t PotOfGold           &   1.3743022         &   47               \\\\\n",
       "\t ImmortalFortunes    &   1.2743884         &  177               \\\\\n",
       "\t StarshipSquadron    &   1.1285749         &   10               \\\\\n",
       "\t Cleopatra           &   1.1250880         & 2159               \\\\\n",
       "\t TitanDefenders      &   0.9310812         &    4               \\\\\n",
       "\t BigBucksBarbeque    &   0.9245626         &    9               \\\\\n",
       "\t SciFi               &   0.8572667         &   59               \\\\\n",
       "\t WorldFeast          &   0.8495415         &   15               \\\\\n",
       "\t goldennights        &   0.7804656         &  692               \\\\\n",
       "\t GoldenConquest      &   0.7558772         &    1               \\\\\n",
       "\t WildWest            &   0.7480440         &  374               \\\\\n",
       "\t SteamyHotJackpots   &   0.7422496         &   26               \\\\\n",
       "\t SaveTheEarth        &   0.7313716         &   15               \\\\\n",
       "\t TemptationIsland    &   0.7309904         &  173               \\\\\n",
       "\t Diner               &   0.7212304         &  230               \\\\\n",
       "\t SweetStakes         &   0.7209157         &    6               \\\\\n",
       "\t DiamondDeluxe       &   0.7183871         &  463               \\\\\n",
       "\t GoldenDragon        &   0.7173788         &  928               \\\\\n",
       "\t JuiceCubes          &   0.7052119         &  168               \\\\\n",
       "\t HackCity            &   0.7049853         &    6               \\\\\n",
       "\t SantaExtravaganza   &   0.7001355         &   34               \\\\\n",
       "\t JungleCubes         &   0.6998940         &   61               \\\\\n",
       "\t BubbleCubes         &   0.6922103         &   13               \\\\\n",
       "\t PiratePlunder       &   0.6880148         &   62               \\\\\n",
       "\t GalleonsOfGlory     &   0.6795224         &   26               \\\\\n",
       "\t BigWinBuffalo       &   0.6789281         &  612               \\\\\n",
       "\t KingdomOfGold       &   0.6768994         &  349               \\\\\n",
       "\t DragonCubes         &   0.6634865         &   16               \\\\\n",
       "\t ReelsOfSpeed        &   0.6477766         &   16               \\\\\n",
       "\t DiaDeMuertos        &   0.6245312         &    9               \\\\\n",
       "\t AdventuresOfAlice   &   0.6105493         &    3               \\\\\n",
       "\t KongsQuest          &   0.6098384         &    4               \\\\\n",
       "\t ArcaneReels         &   0.6027441         &   11               \\\\\n",
       "\t CasinoCats          &   0.6008909         &  255               \\\\\n",
       "\t Freya               &   0.5977079         &    7               \\\\\n",
       "\t AstroBlitz          &   0.5961057         &   66               \\\\\n",
       "\t SherwoodBounty      &   0.5794850         &    9               \\\\\n",
       "\t FairyTale           &   0.5758448         &  466               \\\\\n",
       "\t VegasRoyale         &   0.5622333         &   41               \\\\\n",
       "\t RichesOfOsiris      &   0.4987201         &    5               \\\\\n",
       "\t RichesOfAtlantis    &   0.4607896         &    2               \\\\\n",
       "\t LuckyClassic777     &   0.3836917         &    3               \\\\\n",
       "\\end{tabular}\n"
      ],
      "text/markdown": [
       "\n",
       "| slotmachine_id | avgRTP | sessions |\n",
       "|---|---|---|\n",
       "| CasinoClassicSevens | 368.7500000         |    1                |\n",
       "| Easter              |  25.9849407         |    8                |\n",
       "| ClockworkChronicles |  25.2280359         |    3                |\n",
       "| DoubleWinClassic    |   8.6478081         |    3                |\n",
       "| FarmCubes           |   4.7960915         |   15                |\n",
       "| MysticWolf          |   2.4199752         |  149                |\n",
       "| TheOutsiders        |   2.2964416         |   26                |\n",
       "| PotOfGold           |   1.3743022         |   47                |\n",
       "| ImmortalFortunes    |   1.2743884         |  177                |\n",
       "| StarshipSquadron    |   1.1285749         |   10                |\n",
       "| Cleopatra           |   1.1250880         | 2159                |\n",
       "| TitanDefenders      |   0.9310812         |    4                |\n",
       "| BigBucksBarbeque    |   0.9245626         |    9                |\n",
       "| SciFi               |   0.8572667         |   59                |\n",
       "| WorldFeast          |   0.8495415         |   15                |\n",
       "| goldennights        |   0.7804656         |  692                |\n",
       "| GoldenConquest      |   0.7558772         |    1                |\n",
       "| WildWest            |   0.7480440         |  374                |\n",
       "| SteamyHotJackpots   |   0.7422496         |   26                |\n",
       "| SaveTheEarth        |   0.7313716         |   15                |\n",
       "| TemptationIsland    |   0.7309904         |  173                |\n",
       "| Diner               |   0.7212304         |  230                |\n",
       "| SweetStakes         |   0.7209157         |    6                |\n",
       "| DiamondDeluxe       |   0.7183871         |  463                |\n",
       "| GoldenDragon        |   0.7173788         |  928                |\n",
       "| JuiceCubes          |   0.7052119         |  168                |\n",
       "| HackCity            |   0.7049853         |    6                |\n",
       "| SantaExtravaganza   |   0.7001355         |   34                |\n",
       "| JungleCubes         |   0.6998940         |   61                |\n",
       "| BubbleCubes         |   0.6922103         |   13                |\n",
       "| PiratePlunder       |   0.6880148         |   62                |\n",
       "| GalleonsOfGlory     |   0.6795224         |   26                |\n",
       "| BigWinBuffalo       |   0.6789281         |  612                |\n",
       "| KingdomOfGold       |   0.6768994         |  349                |\n",
       "| DragonCubes         |   0.6634865         |   16                |\n",
       "| ReelsOfSpeed        |   0.6477766         |   16                |\n",
       "| DiaDeMuertos        |   0.6245312         |    9                |\n",
       "| AdventuresOfAlice   |   0.6105493         |    3                |\n",
       "| KongsQuest          |   0.6098384         |    4                |\n",
       "| ArcaneReels         |   0.6027441         |   11                |\n",
       "| CasinoCats          |   0.6008909         |  255                |\n",
       "| Freya               |   0.5977079         |    7                |\n",
       "| AstroBlitz          |   0.5961057         |   66                |\n",
       "| SherwoodBounty      |   0.5794850         |    9                |\n",
       "| FairyTale           |   0.5758448         |  466                |\n",
       "| VegasRoyale         |   0.5622333         |   41                |\n",
       "| RichesOfOsiris      |   0.4987201         |    5                |\n",
       "| RichesOfAtlantis    |   0.4607896         |    2                |\n",
       "| LuckyClassic777     |   0.3836917         |    3                |\n",
       "\n"
      ],
      "text/plain": [
       "   slotmachine_id      avgRTP      sessions\n",
       "1  CasinoClassicSevens 368.7500000    1    \n",
       "2  Easter               25.9849407    8    \n",
       "3  ClockworkChronicles  25.2280359    3    \n",
       "4  DoubleWinClassic      8.6478081    3    \n",
       "5  FarmCubes             4.7960915   15    \n",
       "6  MysticWolf            2.4199752  149    \n",
       "7  TheOutsiders          2.2964416   26    \n",
       "8  PotOfGold             1.3743022   47    \n",
       "9  ImmortalFortunes      1.2743884  177    \n",
       "10 StarshipSquadron      1.1285749   10    \n",
       "11 Cleopatra             1.1250880 2159    \n",
       "12 TitanDefenders        0.9310812    4    \n",
       "13 BigBucksBarbeque      0.9245626    9    \n",
       "14 SciFi                 0.8572667   59    \n",
       "15 WorldFeast            0.8495415   15    \n",
       "16 goldennights          0.7804656  692    \n",
       "17 GoldenConquest        0.7558772    1    \n",
       "18 WildWest              0.7480440  374    \n",
       "19 SteamyHotJackpots     0.7422496   26    \n",
       "20 SaveTheEarth          0.7313716   15    \n",
       "21 TemptationIsland      0.7309904  173    \n",
       "22 Diner                 0.7212304  230    \n",
       "23 SweetStakes           0.7209157    6    \n",
       "24 DiamondDeluxe         0.7183871  463    \n",
       "25 GoldenDragon          0.7173788  928    \n",
       "26 JuiceCubes            0.7052119  168    \n",
       "27 HackCity              0.7049853    6    \n",
       "28 SantaExtravaganza     0.7001355   34    \n",
       "29 JungleCubes           0.6998940   61    \n",
       "30 BubbleCubes           0.6922103   13    \n",
       "31 PiratePlunder         0.6880148   62    \n",
       "32 GalleonsOfGlory       0.6795224   26    \n",
       "33 BigWinBuffalo         0.6789281  612    \n",
       "34 KingdomOfGold         0.6768994  349    \n",
       "35 DragonCubes           0.6634865   16    \n",
       "36 ReelsOfSpeed          0.6477766   16    \n",
       "37 DiaDeMuertos          0.6245312    9    \n",
       "38 AdventuresOfAlice     0.6105493    3    \n",
       "39 KongsQuest            0.6098384    4    \n",
       "40 ArcaneReels           0.6027441   11    \n",
       "41 CasinoCats            0.6008909  255    \n",
       "42 Freya                 0.5977079    7    \n",
       "43 AstroBlitz            0.5961057   66    \n",
       "44 SherwoodBounty        0.5794850    9    \n",
       "45 FairyTale             0.5758448  466    \n",
       "46 VegasRoyale           0.5622333   41    \n",
       "47 RichesOfOsiris        0.4987201    5    \n",
       "48 RichesOfAtlantis      0.4607896    2    \n",
       "49 LuckyClassic777       0.3836917    3    "
      ]
     },
     "metadata": {},
     "output_type": "display_data"
    }
   ],
   "source": [
    "#calculate RTP\n",
    "RTP <- data %>% group_by(session_token,slotmachine_id) %>% summarise(RTP=sum(amount)/sum(total_bet_amount)) %>%\n",
    "  group_by(slotmachine_id) %>% summarise(avgRTP=mean(RTP)) \n",
    "\n",
    "sessions <- data %>% group_by(slotmachine_id) %>%  summarise(sessions=dplyr::n_distinct(session_token))\n",
    "\n",
    "RTP <- left_join(RTP,sessions,by=\"slotmachine_id\")\n",
    "RTP %>% arrange(desc(avgRTP))"
   ]
  },
  {
   "cell_type": "markdown",
   "metadata": {},
   "source": [
    "Cleopatra is the most played slot machine in the application. Looking at the distribution of NetPay of Cleopatra for bets amounting to 5,000, we can see that majority of the NetPay is less than 10. This means that Cleopatra has been providing small wins to players. The small wins gets them hooked both to the machine and the application."
   ]
  },
  {
   "cell_type": "code",
   "execution_count": 15,
   "metadata": {},
   "outputs": [],
   "source": [
    "#Calculate NetPay per session\n",
    "NetPay <- data %>% filter(slotmachine_id=='Cleopatra' & total_bet_amount==5000) %>% group_by(session_id,session_token) %>% \n",
    "  summarise(NetPay=sum(amount)/sum(total_bet_amount))\n"
   ]
  },
  {
   "cell_type": "code",
   "execution_count": 30,
   "metadata": {},
   "outputs": [
    {
     "data": {
      "image/png": "[encoded data removed]",
      "text/plain": [
       "plot without title"
      ]
     },
     "metadata": {},
     "output_type": "display_data"
    }
   ],
   "source": [
    "#Plot parameters\n",
    "breaks <- pretty(range(NetPay$NetPay), n = nclass.FD(NetPay$NetPay), min.n = 1)\n",
    "bwidth <- breaks[2]-breaks[1]\n",
    "\n",
    "#Plot distribution of NetPay\n",
    "ggplot(NetPay, aes(x=NetPay)) + \n",
    " geom_histogram(aes(y=..density..), colour=\"black\", fill=\"white\",binwidth = bwidth)+\n",
    " geom_density(alpha=.2, fill=\"blue\") +ggtitle(\"Distribution of NetPay on Cleopatra\")+\n",
    "theme(plot.title=element_text(hjust=0.5))"
   ]
  }
 ],
 "metadata": {
  "kernelspec": {
   "display_name": "R",
   "language": "R",
   "name": "ir"
  },
  "language_info": {
   "codemirror_mode": "r",
   "file_extension": ".r",
   "mimetype": "text/x-r-source",
   "name": "R",
   "pygments_lexer": "r",
   "version": "3.6.0"
  }
 },
 "nbformat": 4,
 "nbformat_minor": 2
}
